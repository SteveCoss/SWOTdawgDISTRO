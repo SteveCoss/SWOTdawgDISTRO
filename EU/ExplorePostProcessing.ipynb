{
  "cells": [
    {
      "cell_type": "markdown",
      "metadata": {
        "id": "view-in-github",
        "colab_type": "text"
      },
      "source": [
        "<a href=\"https://colab.research.google.com/github/SteveCoss/SWOTdawgDISTRO/blob/main/ExplorePostProcessing.ipynb\" target=\"_parent\"><img src=\"https://colab.research.google.com/assets/colab-badge.svg\" alt=\"Open In Colab\"/></a>"
      ]
    },
    {
      "cell_type": "markdown",
      "metadata": {
        "id": "IwFVq1IaGHjT"
      },
      "source": [
        "# Explore the post-processing for SWOT discharge\n",
        "\n",
        "The key things that happen here are recreating discharge estimates just as they will be computed by the Agencies, and computing error stats at each validation gage."
      ],
      "id": "IwFVq1IaGHjT"
    },
    {
      "cell_type": "code",
      "source": [
        "import os, sys\n",
        "from google.colab import drive\n",
        "drive.mount('/content/drive')\n",
        "nb_path = '/content/notebooks'\n",
        "os.symlink('/content/drive/My Drive/DAWGnotebooks/Path_files', nb_path)\n",
        "sys.path.insert(0,nb_path)"
      ],
      "metadata": {
        "colab": {
          "base_uri": "https://localhost:8080/"
        },
        "id": "ZYnxnEeXGQqw",
        "outputId": "53f580f9-9348-4c97-de35-43c641147b85"
      },
      "id": "ZYnxnEeXGQqw",
      "execution_count": null,
      "outputs": [
        {
          "output_type": "stream",
          "name": "stdout",
          "text": [
            "Mounted at /content/drive\n"
          ]
        }
      ]
    },
    {
      "cell_type": "code",
      "source": [
        "!pwd\n",
        "import os\n",
        "os.chdir(\"/content/drive/My Drive/DAWGnotebooks/dist_4.1\")\n",
        "!pwd"
      ],
      "metadata": {
        "colab": {
          "base_uri": "https://localhost:8080/"
        },
        "id": "VWMvDOBYGRoq",
        "outputId": "c537f693-2f03-49d4-f327-ac091131651a"
      },
      "id": "VWMvDOBYGRoq",
      "execution_count": null,
      "outputs": [
        {
          "output_type": "stream",
          "name": "stdout",
          "text": [
            "/content\n",
            "/content/drive/My Drive/DAWGnotebooks/dist_4.1\n"
          ]
        }
      ]
    },
    {
      "cell_type": "code",
      "execution_count": null,
      "metadata": {
        "id": "0Iw1f6wtGHjY"
      },
      "outputs": [],
      "source": [
        "import os\n",
        "from pathlib import Path\n",
        "import json\n",
        "import matplotlib.pyplot as plt\n",
        "from netCDF4 import Dataset\n",
        "import numpy as np\n",
        "from IPython.display import Image"
      ],
      "id": "0Iw1f6wtGHjY"
    },
    {
      "cell_type": "code",
      "execution_count": null,
      "metadata": {
        "id": "QMBB6OYgGHjZ"
      },
      "outputs": [],
      "source": [
        "InputDir=Path('.')"
      ],
      "id": "QMBB6OYgGHjZ"
    },
    {
      "cell_type": "code",
      "execution_count": null,
      "metadata": {
        "id": "W0nnYQbvGHja"
      },
      "outputs": [],
      "source": [
        "# read in file with all reaches in the domain\n",
        "reach_json=InputDir.joinpath('reaches.json')\n",
        "with open(reach_json) as json_file:\n",
        "    reaches = json.load(json_file)\n",
        "\n",
        "#extract reach ids\n",
        "domain_reachids=list()\n",
        "for reach in reaches:\n",
        "    domain_reachids.append(reach['reach_id'])"
      ],
      "id": "W0nnYQbvGHja"
    },
    {
      "cell_type": "markdown",
      "metadata": {
        "id": "jZFB1_MZGHjb"
      },
      "source": [
        "## Offline discharge creation\n",
        "\n",
        "The offline module currently creates a set of timeseries files, similar to the SWOT.nc files that hold the SWOT observation data. Currently, the unconstrained and constrained discharge are held in separate files. If you want to read the unconstrained discharge, you have to read from files in the offlineq/output_unconstrained directory."
      ],
      "id": "jZFB1_MZGHjb"
    },
    {
      "cell_type": "code",
      "execution_count": null,
      "metadata": {
        "colab": {
          "base_uri": "https://localhost:8080/"
        },
        "id": "LBAUMh5LGHjb",
        "outputId": "e7f7f5c2-ec2e-4d14-eaf1-b3d17cf58352"
      },
      "outputs": [
        {
          "output_type": "stream",
          "name": "stdout",
          "text": [
            "['74266300041_offline.nc', '74267900111_offline.nc', '74267100041_offline.nc', '74270100051_offline.nc', '74269100081_offline.nc', '74266300051_offline.nc', '74267100051_offline.nc', '74267400171_offline.nc', '74267300231_offline.nc', '74267700121_offline.nc']\n"
          ]
        }
      ],
      "source": [
        "# offline discharge calculations: check out files\n",
        "\n",
        "offdir=InputDir.joinpath('offlineq')\n",
        "offdir_unc=offdir.joinpath('output_unconstrained')\n",
        "offdir_con=offdir.joinpath('output_unconstrained')\n",
        "off_files_unc=os.listdir(offdir_unc)\n",
        "\n",
        "print(off_files_unc[0:10]) "
      ],
      "id": "LBAUMh5LGHjb"
    },
    {
      "cell_type": "code",
      "execution_count": null,
      "metadata": {
        "colab": {
          "base_uri": "https://localhost:8080/"
        },
        "id": "WojMBT1WGHjc",
        "outputId": "0dc33597-8242-4b49-fd03-7d749b8f2912"
      },
      "outputs": [
        {
          "output_type": "stream",
          "name": "stdout",
          "text": [
            "<class 'netCDF4._netCDF4.Dataset'>\n",
            "root group (NETCDF4 data model, file format HDF5):\n",
            "    reach_id: 74264100171\n",
            "    dimensions(sizes): nt(36)\n",
            "    variables(dimensions): int32 nt(nt), float64 d_x_area(nt), float64 d_x_area_u(nt), float64 metro_q_c(nt), float64 bam_q_c(nt), float64 hivdi_q_c(nt), float64 momma_q_c(nt), float64 sads_q_c(nt), float64 consensus_q_c(nt), float64 metro_q_uc(nt), float64 bam_q_uc(nt), float64 hivdi_q_uc(nt), float64 momma_q_uc(nt), float64 sads_q_uc(nt), float64 consensus_q_uc(nt)\n",
            "    groups: \n"
          ]
        }
      ],
      "source": [
        "# check out offline discharge output: note that a discharge exists for each variable, and for the consensus\n",
        "reach='74264100171'\n",
        "\n",
        "off_file=offdir_unc.joinpath(reach + '_offline.nc') # this reach is on the Kentucky River\n",
        "\n",
        "off_dataset = Dataset(off_file)\n",
        "\n",
        "print(off_dataset)"
      ],
      "id": "WojMBT1WGHjc"
    },
    {
      "cell_type": "code",
      "execution_count": null,
      "metadata": {
        "colab": {
          "base_uri": "https://localhost:8080/"
        },
        "id": "19ss0W7eGHjd",
        "outputId": "afb19175-e9d2-4715-b7b0-408c4eb296d9"
      },
      "outputs": [
        {
          "output_type": "stream",
          "name": "stdout",
          "text": [
            "Reading  nt  from  offlineq/output_unconstrained/74264100171_offline.nc\n",
            "Reading  d_x_area  from  offlineq/output_unconstrained/74264100171_offline.nc\n",
            "Reading  d_x_area_u  from  offlineq/output_unconstrained/74264100171_offline.nc\n",
            "Reading  metro_q_c  from  offlineq/output_unconstrained/74264100171_offline.nc\n",
            "Reading  bam_q_c  from  offlineq/output_unconstrained/74264100171_offline.nc\n",
            "Reading  hivdi_q_c  from  offlineq/output_unconstrained/74264100171_offline.nc\n",
            "Reading  momma_q_c  from  offlineq/output_unconstrained/74264100171_offline.nc\n",
            "Reading  sads_q_c  from  offlineq/output_unconstrained/74264100171_offline.nc\n",
            "Reading  consensus_q_c  from  offlineq/output_unconstrained/74264100171_offline.nc\n",
            "Reading  metro_q_uc  from  offlineq/output_unconstrained/74264100171_offline.nc\n",
            "Reading  bam_q_uc  from  offlineq/output_unconstrained/74264100171_offline.nc\n",
            "Reading  hivdi_q_uc  from  offlineq/output_unconstrained/74264100171_offline.nc\n",
            "Reading  momma_q_uc  from  offlineq/output_unconstrained/74264100171_offline.nc\n",
            "Reading  sads_q_uc  from  offlineq/output_unconstrained/74264100171_offline.nc\n",
            "Reading  consensus_q_uc  from  offlineq/output_unconstrained/74264100171_offline.nc\n"
          ]
        }
      ],
      "source": [
        "# read in all data\n",
        "for var in off_dataset.variables.values():\n",
        "    print('Reading ', var.name, ' from ',off_file)\n",
        "    globals()[var.name] = off_dataset[var.name][:].filled(np.nan)\n",
        "    \n",
        "off_dataset.close()"
      ],
      "id": "19ss0W7eGHjd"
    },
    {
      "cell_type": "code",
      "execution_count": null,
      "metadata": {
        "colab": {
          "base_uri": "https://localhost:8080/",
          "height": 279
        },
        "id": "5HdpM4TdGHje",
        "outputId": "1de387ab-e01a-4789-9e96-467b1aa85dd0"
      },
      "outputs": [
        {
          "output_type": "display_data",
          "data": {
            "text/plain": [
              "<Figure size 432x288 with 1 Axes>"
            ],
            "image/png": "[encoded data removed]"
          },
          "metadata": {
            "needs_background": "light"
          }
        }
      ],
      "source": [
        "fig,ax=plt.subplots()\n",
        "ax.plot(nt, metro_q_uc, label=\"MetroMan\")\n",
        "ax.plot(nt, momma_q_uc, label=\"MOMMA\")\n",
        "ax.plot(nt, hivdi_q_uc, label=\"H2iVDI\")\n",
        "\n",
        "plt.ylabel('Discharge, cms')\n",
        "plt.xlabel('Days since Jan. 2000')\n",
        "plt.legend()\n",
        "plt.show()"
      ],
      "id": "5HdpM4TdGHje"
    },
    {
      "cell_type": "markdown",
      "metadata": {
        "id": "ma-Mm2jdGHje"
      },
      "source": [
        "For reach 74264100171, discharge after the output and stage-2 flow law parameter estimation is similar to the output from stage 1 - see ExploreFLPE notebook>"
      ],
      "id": "ma-Mm2jdGHje"
    },
    {
      "cell_type": "markdown",
      "metadata": {
        "id": "ty8S90SMGHjf"
      },
      "source": [
        "## Post-diagnostics check\n",
        "\n",
        "This is one of the few modules not run as party of the Verify Demo. "
      ],
      "id": "ty8S90SMGHjf"
    },
    {
      "cell_type": "markdown",
      "metadata": {
        "id": "k0DY5jY8GHjf"
      },
      "source": [
        "## Validation Module\n",
        "\n",
        "The validation module currently creates a set of files with error stats, as well as figures. "
      ],
      "id": "k0DY5jY8GHjf"
    },
    {
      "cell_type": "code",
      "execution_count": null,
      "metadata": {
        "colab": {
          "base_uri": "https://localhost:8080/"
        },
        "id": "btAlL5D3GHjg",
        "outputId": "d6586b73-82d0-46ba-cabd-b041263468eb"
      },
      "outputs": [
        {
          "output_type": "stream",
          "name": "stdout",
          "text": [
            "['74267400221_momma_q_c.jpg', '74267400171_momma_q_c.jpg', '74267400291_momma_q_c.jpg', '74267400281_momma_q_c.jpg', '74267400341_momma_q_c.jpg', '74267400451_momma_q_c.jpg', '74267400321_momma_q_c.jpg', '74267400061_momma_q_c.jpg', '74267400391_momma_q_c.jpg', '74267400241_metroman_q_c.jpg', '74267400381_momma_q_c.jpg', '74267400241_momma_q_c.jpg', '74267400081_momma_q_c.jpg', '74267400411_momma_q_c.jpg', '74267400151_metroman_q_c.jpg', '74267400361_momma_q_c.jpg', '74267400151_momma_q_c.jpg', '74267400151_hivdi_q_c.jpg', '74267400131_momma_q_c.jpg', '74267400131_hivdi_q_c.jpg', '74267400201_momma_q_c.jpg', '74267400131_metroman_q_c.jpg', '74267400261_metroman_q_c.jpg', '74267400181_momma_q_c.jpg', '74267400261_momma_q_c.jpg', '74267400471_momma_q_c.jpg', '74267400311_momma_q_c.jpg']\n"
          ]
        }
      ],
      "source": [
        "# validation \n",
        "\n",
        "valdir=InputDir.joinpath('validation')\n",
        "valdir_unc=valdir.joinpath('output_unconstrained')\n",
        "valdir_con=valdir.joinpath('output_constrained')\n",
        "\n",
        "valfiles_con_figs=os.listdir(valdir_con.joinpath('figs'))\n",
        "print(valfiles_con_figs) "
      ],
      "id": "btAlL5D3GHjg"
    },
    {
      "cell_type": "code",
      "execution_count": null,
      "metadata": {
        "colab": {
          "base_uri": "https://localhost:8080/"
        },
        "id": "gySL1e9WGHjg",
        "outputId": "0a899bd7-fd0e-4ef2-f9d3-adcbb010bbd8"
      },
      "outputs": [
        {
          "output_type": "stream",
          "name": "stdout",
          "text": [
            "['74267100051_validation.nc', '74270100051_validation.nc', '74267400221_validation.nc', '74267400171_validation.nc', '74267400291_validation.nc', '74267400281_validation.nc', '74267400341_validation.nc', '74267400451_validation.nc', '74267400321_validation.nc', '74267400061_validation.nc', '74267400381_validation.nc', '74267400391_validation.nc', '74267400241_validation.nc', '74267400081_validation.nc', '74267400411_validation.nc', '74267400151_validation.nc', '74267400361_validation.nc', '74267400201_validation.nc', '74267400131_validation.nc', '74267400181_validation.nc', '74267400261_validation.nc', '74267400471_validation.nc', '74267400311_validation.nc']\n"
          ]
        }
      ],
      "source": [
        "valfiles_con_stats=os.listdir(valdir_con.joinpath('stats'))\n",
        "print(valfiles_con_stats) "
      ],
      "id": "gySL1e9WGHjg"
    },
    {
      "cell_type": "code",
      "execution_count": null,
      "metadata": {
        "colab": {
          "base_uri": "https://localhost:8080/"
        },
        "id": "RaWv12UVGHjg",
        "outputId": "2964b077-e46b-4479-b75a-2315a7b2848f"
      },
      "outputs": [
        {
          "output_type": "stream",
          "name": "stdout",
          "text": [
            "<class 'netCDF4._netCDF4.Dataset'>\n",
            "root group (NETCDF4 data model, file format HDF5):\n",
            "    reach_id: 74267100051\n",
            "    description: Statistics for reach: 74267100051\n",
            "    history: 20-Jun-2022 17:58:21\n",
            "    has_validation: 0\n",
            "    gage_type: NO DATA\n",
            "    dimensions(sizes): num_algos(0), nchar(0)\n",
            "    variables(dimensions): \n",
            "    groups: \n"
          ]
        }
      ],
      "source": [
        "# check out file structure\n",
        "\n",
        "reachid='74267100051'\n",
        "\n",
        "valfile=valdir_con.joinpath('stats').joinpath(reachid + '_validation.nc') # this reach is on the Kentucky River\n",
        "\n",
        "valdataset = Dataset(valfile)\n",
        "\n",
        "print(valdataset)\n",
        "\n",
        "valdataset.close()"
      ],
      "id": "RaWv12UVGHjg"
    },
    {
      "cell_type": "markdown",
      "metadata": {
        "id": "3QjeKEUmGHjh"
      },
      "source": [
        "In this initial version, the validation module does not include the data it's extracted from the offline discharge and the validation modules. So we'll just display some of the timeseries files it's created, and then analyze the statistics."
      ],
      "id": "3QjeKEUmGHjh"
    },
    {
      "cell_type": "code",
      "execution_count": null,
      "metadata": {
        "colab": {
          "base_uri": "https://localhost:8080/"
        },
        "id": "A4OsmAG4GHjh",
        "outputId": "ba3d1b7e-c672-4d2a-a7c2-ecc15c4e885d"
      },
      "outputs": [
        {
          "output_type": "stream",
          "name": "stderr",
          "text": [
            "/usr/local/lib/python3.7/dist-packages/IPython/core/formatters.py:364: FormatterWarning: image/png formatter returned invalid type <class 'pathlib.PosixPath'> (expected (<class 'bytes'>, <class 'str'>)) for object: <IPython.core.display.Image object>\n",
            "  FormatterWarning\n"
          ]
        },
        {
          "output_type": "execute_result",
          "data": {
            "text/plain": [
              "<IPython.core.display.Image object>"
            ]
          },
          "metadata": {},
          "execution_count": 13
        }
      ],
      "source": [
        "Image(valdir_con.joinpath('figs').joinpath('74267400181_momma_q_c.jpg'))"
      ],
      "id": "A4OsmAG4GHjh"
    },
    {
      "cell_type": "code",
      "execution_count": null,
      "metadata": {
        "id": "OGEFUrJNGHjh"
      },
      "outputs": [],
      "source": [
        ""
      ],
      "id": "OGEFUrJNGHjh"
    }
  ],
  "metadata": {
    "kernelspec": {
      "display_name": "Python 3",
      "language": "python",
      "name": "python3"
    },
    "language_info": {
      "codemirror_mode": {
        "name": "ipython",
        "version": 3
      },
      "file_extension": ".py",
      "mimetype": "text/x-python",
      "name": "python",
      "nbconvert_exporter": "python",
      "pygments_lexer": "ipython3",
      "version": "3.6.10"
    },
    "colab": {
      "name": "ExplorePostProcessing.ipynb",
      "provenance": [],
      "collapsed_sections": [],
      "include_colab_link": true
    }
  },
  "nbformat": 4,
  "nbformat_minor": 5
}