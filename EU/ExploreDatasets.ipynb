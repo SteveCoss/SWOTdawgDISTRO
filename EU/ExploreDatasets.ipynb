{
  "cells": [
    {
      "cell_type": "markdown",
      "metadata": {
        "id": "view-in-github",
        "colab_type": "text"
      },
      "source": [
        "<a href=\"https://colab.research.google.com/github/SteveCoss/SWOTdawgDISTRO/blob/main/ExploreDatasets.ipynb\" target=\"_parent\"><img src=\"https://colab.research.google.com/assets/colab-badge.svg\" alt=\"Open In Colab\"/></a>"
      ]
    },
    {
      "cell_type": "markdown",
      "metadata": {
        "id": "9c613fc9"
      },
      "source": [
        "# How to download\n",
        "The notebooks and the datasets, including an up-to-date version of swotdawgviz can be downloaded using this link: https://filesender.renater.fr/?s=download&token=2dee442e-4b37-41be-83d6-ae22aa8378a2"
      ],
      "id": "9c613fc9"
    },
    {
      "cell_type": "markdown",
      "metadata": {
        "id": "fe5158ec"
      },
      "source": [
        "# Notebook to explore SWOT algorithm input datasets\n",
        "\n",
        "The input datasets are 1) the SWORD dataset (the prior database); 2) the SWOT data; 3) the so-called SWORD of science (SoS)"
      ],
      "id": "fe5158ec"
    },
    {
      "cell_type": "code",
      "execution_count": null,
      "metadata": {
        "id": "iRgR-QW3jg4M"
      },
      "outputs": [],
      "source": [
        "import os, sys\n",
        "from google.colab import drive\n",
        "drive.mount('/content/drive')\n",
        "nb_path = '/content/notebooks'\n",
        "os.symlink('/content/drive/My Drive/DAWGnotebooks/Path_files', nb_path)\n",
        "sys.path.insert(0,nb_path)\n",
        "#test"
      ],
      "id": "iRgR-QW3jg4M"
    },
    {
      "cell_type": "code",
      "execution_count": null,
      "metadata": {
        "id": "SiLUJGiPgTGX"
      },
      "outputs": [],
      "source": [
        "#reset working directory to distro folder\n",
        "!pwd\n",
        "import os\n",
        "os.chdir(\"/content/drive/My Drive/DAWGnotebooks/dist_4.1\")\n",
        "!pwd"
      ],
      "id": "SiLUJGiPgTGX"
    },
    {
      "cell_type": "code",
      "execution_count": null,
      "metadata": {
        "id": "a2ae1080"
      },
      "outputs": [],
      "source": [
        "import os,sys\n",
        "\n",
        "import json\n",
        "from pathlib import Path\n",
        "import geopandas as gpd\n",
        "from netCDF4 import Dataset\n",
        "import numpy as np\n",
        "import folium\n",
        "\n",
        "# Register pandas converters for matplotlib\n",
        "from pandas.plotting import register_matplotlib_converters\n",
        "register_matplotlib_converters()\n",
        "\n",
        "import matplotlib.pyplot as plt"
      ],
      "id": "a2ae1080"
    },
    {
      "cell_type": "markdown",
      "metadata": {
        "id": "6a00f52e"
      },
      "source": [
        "This notebook relies on the swotdawgviz library. Use either the version included in this package or use an up-to-date version (https://github.com/klarnier/swotdawgviz)"
      ],
      "id": "6a00f52e"
    },
    {
      "cell_type": "code",
      "execution_count": null,
      "metadata": {
        "id": "cd1e8db3"
      },
      "outputs": [],
      "source": [
        "# Using embedded version of swotdawgviz\n",
        "from swotdawgviz.swotdawgviz import io as sdvio\n",
        "from swotdawgviz.swotdawgviz import maps as sdvm\n",
        "\n",
        "# # Using installed version of swotdawgviz\n",
        "# from swotdawgviz import io as sdvio\n",
        "# from swotdawgviz import maps as sdvm"
      ],
      "id": "cd1e8db3"
    },
    {
      "cell_type": "markdown",
      "metadata": {
        "id": "5fc64c0a"
      },
      "source": [
        "## Explore SWORD\n",
        "\n",
        "Here we'll check out the SWORD data. We'll create a quick map of the domain showing the reach centerlines, then create a map with reaches colored by width. "
      ],
      "id": "5fc64c0a"
    },
    {
      "cell_type": "code",
      "execution_count": null,
      "metadata": {
        "id": "887f0ae0"
      },
      "outputs": [],
      "source": [
        "InputDir=Path('.')\n",
        "swotdir=InputDir.joinpath('swot')\n",
        "swot_nc_dir=swotdir.joinpath('timeseries')\n",
        "\n",
        "sword_dir=InputDir.joinpath('sword')\n",
        "sword_shp_dir=sword_dir.joinpath('shp').joinpath('NA')\n",
        "\n",
        "collection = sdvio.SwotObservationsCollection(swot_nc_dir)\n",
        "\n",
        "sword_hb74_reaches = sdvio.SwordShapefile(sword_shp_dir.joinpath(\"na_sword_reaches_hb74_v11.shp\"),\n",
        "                                          reaches_list=collection.reaches_list)\n"
      ],
      "id": "887f0ae0"
    },
    {
      "cell_type": "code",
      "execution_count": null,
      "metadata": {
        "id": "70e881fe"
      },
      "outputs": [],
      "source": [
        "rmap = sdvm.ReachesMap(sword_hb74_reaches.dataset)\n",
        "ridmap = rmap.get_centerlines_map()\n",
        "ridmap"
      ],
      "id": "70e881fe"
    },
    {
      "cell_type": "code",
      "execution_count": null,
      "metadata": {
        "id": "6f3b73e4"
      },
      "outputs": [],
      "source": [
        "# the swotdawgviz library is also set up to create maps with reaches (or nodes) colored by attributes\n",
        "widthmap = rmap.get_centerlines_map(varname=\"width\")\n",
        "widthmap"
      ],
      "id": "6f3b73e4"
    },
    {
      "cell_type": "code",
      "execution_count": null,
      "metadata": {
        "id": "405e1926"
      },
      "outputs": [],
      "source": [
        "# in fact,  swotdawgviz library can even create polygons for the reaches, with width shown by polygon size\n",
        "# zoom in to check out what's going on!\n",
        "widthpolymap = rmap.get_polygons_map(varname=\"width\", width_attribute=\"width\")\n",
        "widthpolymap"
      ],
      "id": "405e1926"
    },
    {
      "cell_type": "code",
      "execution_count": null,
      "metadata": {
        "id": "8e9bffa8"
      },
      "outputs": [],
      "source": [
        "# you can visualize pretty much any SWORD characteristic this way\n",
        "faccmap = rmap.get_centerlines_map(varname=\"facc\",varlimits=[11000,1e6])\n",
        "faccmap"
      ],
      "id": "8e9bffa8"
    },
    {
      "cell_type": "markdown",
      "metadata": {
        "id": "c474a113"
      },
      "source": [
        "## Explore SWOT Data\n",
        "\n",
        "First, show an example swath in the domain, and then look at some of the data products from that swath"
      ],
      "id": "c474a113"
    },
    {
      "cell_type": "code",
      "execution_count": null,
      "metadata": {
        "id": "4e88fd1b"
      },
      "outputs": [],
      "source": [
        "# show an example swath in the domain\n",
        "\n",
        "#read orbit data for one pass, 175, and show coverage\n",
        "orbitdir=swotdir.joinpath('orbit')\n",
        "orbitfile=orbitdir.joinpath('swot_science_orbit_sept2015-v2_10s_swath.shp')\n",
        "df = gpd.read_file(orbitfile)\n",
        "\n",
        "swathmap = folium.Map(\n",
        "    location=[38.5, -85],\n",
        "    tiles='Stamen Toner',\n",
        "    zoom_start=6.5)\n",
        "\n",
        "for _, r in df.iterrows():\n",
        "    if r['ID_PASS']==175:    \n",
        "        sim_geo = gpd.GeoSeries(r['geometry']).simplify(tolerance=0.001)\n",
        "        geo_j = sim_geo.to_json()\n",
        "        geo_j = folium.GeoJson(data=geo_j,\n",
        "                               style_function=lambda x: {'fillColor': 'orange'})\n",
        "        folium.Popup(r['ID_PASS']).add_to(geo_j)\n",
        "        geo_j.add_to(swathmap)\n",
        "\n",
        "swathmap"
      ],
      "id": "4e88fd1b"
    },
    {
      "cell_type": "code",
      "execution_count": null,
      "metadata": {
        "id": "fa688331"
      },
      "outputs": [],
      "source": [],
      "id": "fa688331"
    },
    {
      "cell_type": "code",
      "execution_count": null,
      "metadata": {
        "id": "d221173b"
      },
      "outputs": [],
      "source": [
        "# show the node WSE measurements for first cycle of this pass which I _think_ is 428 in the new convention \n",
        "\n",
        "obsfile=swotdir.joinpath('RiverSP').joinpath('SWOT_L2_HR_RiverSP_node_1_428_NA_20100830T061857_20100830T061920_PGA2_03.shp')\n",
        "dfobs = gpd.read_file(obsfile)\n",
        "\n",
        "nmap = sdvm.NodesMap(dfobs)\n",
        "obsnodes = nmap.get_map(varname=\"wse\", add_to_map=swathmap)\n",
        "\n",
        "# folium.GeoJson(data=dfobs['geometry'],\n",
        "#                marker=folium.CircleMarker(location=None, radius = 3, # Radius in metres\n",
        "#                                            weight = 0, #outline weight\n",
        "#                                            fill_color = '#0000FF', \n",
        "#                                            fill_opacity = 1),).add_to(swathmap)\n",
        "\n",
        "swathmap"
      ],
      "id": "d221173b"
    },
    {
      "cell_type": "code",
      "execution_count": null,
      "metadata": {
        "id": "01a250c6"
      },
      "outputs": [],
      "source": [
        "# plot up all the node WSE data for the Ohio River, from this pass\n",
        "# TODO change axis labels to make pretty etc. make pdistout human readable\n",
        "\n",
        "# read in file with all reaches in the domain\n",
        "reach_json=InputDir.joinpath('reaches.json')\n",
        "with open(reach_json) as json_file:\n",
        "    reaches = json.load(json_file)\n",
        "\n",
        "#extract reach ids\n",
        "domain_reachids=list()\n",
        "for reach in reaches:\n",
        "    domain_reachids.append(reach['reach_id'])\n",
        "\n",
        "# read data from sword file\n",
        "swordfile=sword_dir.joinpath('netcdf').joinpath('na_sword_v11.nc')\n",
        "sword_dataset=Dataset(swordfile)\n",
        "\n",
        "sword_point_reachids=sword_dataset['centerlines/reach_id'][0,:][:]\n",
        "swordx=sword_dataset['centerlines/x'][:]\n",
        "swordy=sword_dataset['centerlines/y'][:]\n",
        "\n",
        "swordreachids=sword_dataset[\"reaches/reach_id\"][:].tolist()\n",
        "sword_names=sword_dataset['reaches/river_name'][:]\n",
        "sword_drainage_area=sword_dataset['reaches/facc'][:]\n",
        "sword_swot_orbits=sword_dataset['reaches/swot_orbits'][:]\n",
        "\n",
        "# create sword data dictionary for domain\n",
        "domain_reach_data={}\n",
        "\n",
        "for reach in domain_reachids:\n",
        "    \n",
        "    # deal with points\n",
        "    indxs=np.argwhere(sword_point_reachids.data==reach)   \n",
        "    indxs=indxs[:,0]\n",
        "    points=[]\n",
        "    for indx in indxs:           \n",
        "        points.append(tuple([swordy[indx],swordx[indx]]))    \n",
        "        \n",
        "    # deal with reaches\n",
        "    indx = swordreachids.index(reach)\n",
        "    \n",
        "    domain_reach_data[reach]={}\n",
        "    domain_reach_data[reach]['clpoints']=points\n",
        "    domain_reach_data[reach]['river_name']=sword_names[indx]\n",
        "    domain_reach_data[reach]['drainage_area_km2']=sword_drainage_area[indx]\n",
        "    domain_reach_data[reach]['swot_orbits']=sword_swot_orbits[:,indx]\n",
        "\n",
        "# grab river name for each node\n",
        "node_river_name=list()\n",
        "for _, r in dfobs.iterrows():\n",
        "    if int(r['reach_id']) in domain_reach_data:\n",
        "        node_river_name.append(domain_reach_data[int(r['reach_id'])]['river_name'])\n",
        "    else:\n",
        "        node_river_name.append('N/A')\n",
        "        \n",
        "dfobs['river_name']=node_river_name\n",
        "dfobs.head()\n",
        "\n",
        "dfobs_ohio =  dfobs.loc[ (dfobs['river_name'] == 'Ohio River') & (dfobs['wse'] != -9999) ]\n",
        "\n",
        "dfobs_ohio"
      ],
      "id": "01a250c6"
    },
    {
      "cell_type": "code",
      "execution_count": null,
      "metadata": {
        "id": "5f355634"
      },
      "outputs": [],
      "source": [
        "rids=dfobs_ohio.reach_id.unique()\n",
        "\n",
        "import random\n",
        "\n",
        "fig,ax=plt.subplots()\n",
        "\n",
        "for rid in rids:\n",
        "    hexcolor = [\"#\"+''.join([random.choice('ABCDEF0123456789') for i in range(6)])]\n",
        "    \n",
        "    reach_data = dfobs_ohio.loc[dfobs_ohio.reach_id==rid]\n",
        "    ax.scatter(reach_data[\"p_dist_out\"] * 0.001, reach_data[\"wse\"], c=hexcolor, label=rid)\n",
        "    \n",
        "plt.legend(loc='center left', bbox_to_anchor=(1.0, .5))\n",
        "ax.set_xlabel(\"outlet distance (km)\")\n",
        "ax.set_ylabel(\"WSE (m)\")\n",
        "plt.tight_layout()\n",
        "plt.show()\n"
      ],
      "id": "5f355634"
    },
    {
      "cell_type": "markdown",
      "metadata": {
        "id": "43da038b"
      },
      "source": [
        "## Explore SOS\n",
        "First, take a look at the flow duration curves  / compare the WBM and GRADES priors. There is a ton of information in SoS: take a look at the fluvial geomorph quantities. Then take a look at gage locations. "
      ],
      "id": "43da038b"
    },
    {
      "cell_type": "code",
      "execution_count": null,
      "metadata": {
        "id": "a86dc54d"
      },
      "outputs": [],
      "source": [
        "sosdir=InputDir.joinpath('sos')\n",
        "sosfile_con=sosdir.joinpath('constrained').joinpath('na_sword_v11_SOS_priors.nc')\n",
        "sosfile_uncon=sosdir.joinpath('unconstrained').joinpath('na_sword_v11_SOS_priors.nc')\n",
        "sos_con = sdvio.SosNetCDF(sosfile_con)\n",
        "sos_uncon = sdvio.SosNetCDF(sosfile_uncon)"
      ],
      "id": "a86dc54d"
    },
    {
      "cell_type": "code",
      "execution_count": null,
      "metadata": {
        "id": "5659c401"
      },
      "outputs": [],
      "source": [
        "sos_con.dataset"
      ],
      "id": "5659c401"
    },
    {
      "cell_type": "code",
      "execution_count": null,
      "metadata": {
        "id": "774e2cab"
      },
      "outputs": [],
      "source": [
        "list(sos_con.dataset.columns)"
      ],
      "id": "774e2cab"
    },
    {
      "cell_type": "code",
      "execution_count": null,
      "metadata": {
        "id": "cef68868"
      },
      "outputs": [],
      "source": [
        "# create a map of GRADES two-year return Q\n",
        "\n",
        "# add GRADES two-year discharge to the rmap object\n",
        "rmap._dataset['GRADES_2yr']=-1.\n",
        "\n",
        "for reachid in domain_reachids:\n",
        "    \n",
        "    reach_data = sos_con.dataset.loc[sos_con.dataset['reach_id']==reachid]\n",
        "    \n",
        "    if \"grades_two_year_return_q\" in reach_data.columns:\n",
        "        #--------------------------------\n",
        "        # EMBEDDED VERSION OF swotdawgviz\n",
        "        #--------------------------------\n",
        "        grades_two_year_return_q = reach_data['grades_two_year_return_q'].values[0]\n",
        "\n",
        "    else:\n",
        "        #--------------------------------\n",
        "        # UP-TO-DATE VERSION OF swotdawgviz\n",
        "        #--------------------------------\n",
        "        grades_two_year_return_q = reach_data['model_two_year_return_q'].values[0]\n",
        "        \n",
        "    \n",
        "    rmap._dataset.loc[rmap._dataset['reach_id'].astype(str)==str(reachid),['GRADES_2yr']]=grades_two_year_return_q\n",
        "    \n",
        "\n",
        "rmap._json_dataset = rmap._dataset.to_json()    \n",
        "\n"
      ],
      "id": "cef68868"
    },
    {
      "cell_type": "code",
      "execution_count": null,
      "metadata": {
        "id": "df9577e3"
      },
      "outputs": [],
      "source": [
        "Grades2yr_map = rmap.get_centerlines_map(varname=\"GRADES_2yr\",varlimits=[1000,15000])\n",
        "Grades2yr_map"
      ],
      "id": "df9577e3"
    },
    {
      "cell_type": "code",
      "execution_count": null,
      "metadata": {
        "id": "0ce4da5d"
      },
      "outputs": [],
      "source": [
        "# create a map of A0 prior\n",
        "rmap._dataset['A0prior']=-1.\n",
        "\n",
        "for reachid in domain_reachids:\n",
        "    \n",
        "    reach_data = sos_con.dataset.loc[sos_con.dataset['reach_id']==reachid]\n",
        "    gbpriors_logA0_hat = reach_data['gbpriors_logA0_hat'].values[0]\n",
        "    \n",
        "    rmap._dataset.loc[rmap._dataset['reach_id'].astype(str)==str(reachid),['A0prior']]=np.exp(gbpriors_logA0_hat)\n",
        "    \n",
        "\n",
        "rmap._json_dataset = rmap._dataset.to_json()    \n",
        "\n",
        "A0hat_map = rmap.get_centerlines_map(varname=\"A0prior\",varlimits=[10,1000])\n",
        "A0hat_map"
      ],
      "id": "0ce4da5d"
    },
    {
      "cell_type": "code",
      "execution_count": null,
      "metadata": {
        "id": "vWtBh5ZGHsnN"
      },
      "outputs": [],
      "source": [
        "rmap._dataset"
      ],
      "id": "vWtBh5ZGHsnN"
    },
    {
      "cell_type": "code",
      "execution_count": null,
      "metadata": {
        "id": "1hMWwZjI_O9L"
      },
      "outputs": [],
      "source": [
        "# create a map of GRADES meanQ\n",
        "\n",
        "# add GRADES two-year discharge to the rmap object\n",
        "rmap._dataset['grades_mean_q']=-1.\n",
        "\n",
        "for reachid in domain_reachids:\n",
        "    rmap._dataset.loc[rmap._dataset['reach_id'].astype(str)==str(reachid),['grades_mean_q']]=sos_con.dataset.loc[sos_con.dataset['reach_id']==reachid]['model_mean_q'].values[0]\n",
        "    \n",
        "\n",
        "rmap._json_dataset = rmap._dataset.to_json()    \n",
        "\n"
      ],
      "id": "1hMWwZjI_O9L"
    },
    {
      "cell_type": "code",
      "execution_count": null,
      "metadata": {
        "id": "PxxwNULX_Zc6"
      },
      "outputs": [],
      "source": [
        "GradesmeanQ_map = rmap.get_centerlines_map(varname=\"grades_mean_q\",varlimits=[500,15000])\n",
        "GradesmeanQ_map"
      ],
      "id": "PxxwNULX_Zc6"
    },
    {
      "cell_type": "code",
      "execution_count": null,
      "metadata": {
        "id": "G5Ajvqwa_Zry"
      },
      "outputs": [],
      "source": [
        "# create a map of WBM meanQ\n",
        "\n",
        "# add GRADES two-year discharge to the rmap object\n",
        "rmap._dataset['WBM_mean_q']=-1.\n",
        "\n",
        "for reachid in domain_reachids:\n",
        "    rmap._dataset.loc[rmap._dataset['reach_id'].astype(str)==str(reachid),['WBM_mean_q']]=sos_uncon.dataset.loc[sos_uncon.dataset['reach_id']==reachid]['model_mean_q'].values[0]\n",
        "    \n",
        "\n",
        "rmap._json_dataset = rmap._dataset.to_json()    \n",
        "WBMmeanQ_map = rmap.get_centerlines_map(varname=\"WBM_mean_q\",varlimits=[500,15000])\n",
        "WBMmeanQ_map"
      ],
      "id": "G5Ajvqwa_Zry"
    },
    {
      "cell_type": "code",
      "execution_count": null,
      "metadata": {
        "id": "7cd2ba07"
      },
      "outputs": [],
      "source": [
        "# plot up gage locations\n",
        "nrtfile=InputDir.joinpath('sos/gages/NRT_V3.csv')\n",
        "\n",
        "nrtdf = gpd.read_file(nrtfile)\n",
        "nrtdf.crs = 'epsg:4326'\n",
        "nrtdf.geometry=gpd.points_from_xy(nrtdf.X, nrtdf.Y)\n",
        "nrtdfCAL=nrtdf[nrtdf.CAL.astype('int32')==1]\n",
        "nrtdfVAL=nrtdf[nrtdf.CAL.astype('int32')==0]\n",
        "\n",
        "\n",
        "#--------------------------------\n",
        "# EMBEDDED VERSION OF swotdawgviz\n",
        "#--------------------------------\n",
        "# folium.GeoJson(data=nrtdf['geometry'],\n",
        "#                marker=folium.CircleMarker(radius = 3, # Radius in metres\n",
        "#                                            weight = 0, #outline weight\n",
        "#                                            fill_color = '#0000FF', \n",
        "#                                            fill_opacity = 1),).add_to(ridmap)\n",
        "\n",
        "#----------------------------------\n",
        "# UP-TO-DATE VERSION of swotdawgviz\n",
        "#----------------------------------\n",
        "# Use circle shape for performance !\n",
        "gmapC = sdvm.GagesMap(nrtdfCAL)\n",
        "gmapV = sdvm.GagesMap(nrtdfVAL)\n",
        "gagesmapC = gmapC.get_map(varname_id=None, shape=\"circle\", add_to_map=ridmap)\n",
        "gagesmapV = gmapV.get_map(varname_id=None, shape=\"marker\", add_to_map=ridmap)\n",
        "ridmap"
      ],
      "id": "7cd2ba07"
    },
    {
      "cell_type": "code",
      "execution_count": null,
      "metadata": {
        "id": "0ea60e79"
      },
      "outputs": [],
      "source": [],
      "id": "0ea60e79"
    }
  ],
  "metadata": {
    "colab": {
      "name": "ExploreDatasets.ipynb",
      "provenance": [],
      "include_colab_link": true
    },
    "kernelspec": {
      "display_name": "Python 3 (ipykernel)",
      "language": "python",
      "name": "python3"
    },
    "language_info": {
      "codemirror_mode": {
        "name": "ipython",
        "version": 3
      },
      "file_extension": ".py",
      "mimetype": "text/x-python",
      "name": "python",
      "nbconvert_exporter": "python",
      "pygments_lexer": "ipython3",
      "version": "3.8.13"
    }
  },
  "nbformat": 4,
  "nbformat_minor": 5
}