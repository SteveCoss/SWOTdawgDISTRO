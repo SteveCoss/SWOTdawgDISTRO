{
  "cells": [
    {
      "cell_type": "markdown",
      "metadata": {
        "id": "view-in-github",
        "colab_type": "text"
      },
      "source": [
        "<a href=\"https://colab.research.google.com/github/SteveCoss/SWOTdawgDISTRO/blob/main/ExplorePreliminaries_EU.ipynb\" target=\"_parent\"><img src=\"https://colab.research.google.com/assets/colab-badge.svg\" alt=\"Open In Colab\"/></a>"
      ]
    },
    {
      "cell_type": "markdown",
      "id": "8dc4a6c3",
      "metadata": {
        "id": "8dc4a6c3"
      },
      "source": [
        "# Notebook to explore SWOT preliminary steps\n",
        "\n",
        "Confluence transforms the input datasets explored in the \"Explore Datsets\" notebook into formats usable for the downstream algorithms. Some of the most important steps are 1) creating timeseries files for each reach (both node and reach data are included in these files); 2) performing diagnostic checks on the input data 3)  pulling the latest gage data and adding that to the SWORD of Science."
      ]
    },
    {
      "cell_type": "code",
      "source": [
        "import os, sys\n",
        "from google.colab import drive\n",
        "drive.mount('/content/drive')\n",
        "nb_path = '/content/notebooks'\n",
        "os.symlink('/content/drive/My Drive/DAWGnotebooks/Path_files', nb_path)\n",
        "sys.path.insert(0,nb_path)"
      ],
      "metadata": {
        "id": "2jIf-J-q7TWd"
      },
      "id": "2jIf-J-q7TWd",
      "execution_count": null,
      "outputs": []
    },
    {
      "cell_type": "code",
      "source": [
        "#reset working directory to distro folder\n",
        "!pwd\n",
        "import os\n",
        "os.chdir(\"/content/drive/My Drive/DAWGnotebooks/dist_5.0\")\n",
        "!pwd"
      ],
      "metadata": {
        "id": "7Z5koikQ7U5k"
      },
      "id": "7Z5koikQ7U5k",
      "execution_count": null,
      "outputs": []
    },
    {
      "cell_type": "code",
      "execution_count": null,
      "id": "1572381c",
      "metadata": {
        "id": "1572381c"
      },
      "outputs": [],
      "source": [
        "import os,sys\n",
        "import datetime\n",
        "import json\n",
        "\n",
        "import matplotlib.pyplot as plt\n",
        "import numpy as np\n",
        "import pandas as pd\n",
        "import geopandas as gpd\n",
        "\n",
        "from netCDF4 import Dataset,chartostring\n",
        "from pathlib import Path\n",
        "\n",
        "import folium\n",
        "\n",
        "# Register pandas converters for matplotlib\n",
        "from pandas.plotting import register_matplotlib_converters\n",
        "register_matplotlib_converters()"
      ]
    },
    {
      "cell_type": "markdown",
      "id": "bf2869cc",
      "metadata": {
        "id": "bf2869cc"
      },
      "source": [
        "This notebook relies on the swotdawgviz library. Use either the version included in this package or use an up-to-date version (https://github.com/klarnier/swotdawgviz)"
      ]
    },
    {
      "cell_type": "code",
      "execution_count": null,
      "id": "a54f2d0f",
      "metadata": {
        "id": "a54f2d0f"
      },
      "outputs": [],
      "source": [
        "# Using embedded version of swotdawgviz\n",
        "from swotdawgviz.swotdawgviz import io as sdvio\n",
        "from swotdawgviz.swotdawgviz import maps as sdvm\n",
        "\n",
        "# # Using installed version of swotdawgviz\n",
        "# from swotdawgviz import io as sdvio\n",
        "# from swotdawgviz import maps as sdvm"
      ]
    },
    {
      "cell_type": "code",
      "execution_count": null,
      "id": "7e82a350",
      "metadata": {
        "id": "7e82a350"
      },
      "outputs": [],
      "source": [
        "# create a map so we can locate a particular reach to explore\n",
        "InputDir=Path('.')\n",
        "\n",
        "swot_dir=InputDir.joinpath('swot')\n",
        "swot_nc_dir=swot_dir.joinpath('timeseries')\n",
        "\n",
        "sword_dir=InputDir.joinpath('sword')\n",
        "sword_shp_dir=sword_dir.joinpath('shp').joinpath('EU')\n",
        "\n",
        "collection = sdvio.SwotObservationsCollection(swot_nc_dir)\n",
        "print(\"Number of reaches: %i\" % len(collection.reaches_list))\n",
        "\n",
        "\n",
        "sword_hb23_reaches = sdvio.SwordShapefile(os.path.join(sword_shp_dir, \"eu_sword_reaches_hb23_v11.shp\"),\n",
        "                                          reaches_list=collection.reaches_list)\n",
        "\n",
        "rmap = sdvm.ReachesMap(sword_hb23_reaches.dataset)\n",
        "ridmap = rmap.get_centerlines_map()\n",
        "ridmap"
      ]
    },
    {
      "cell_type": "code",
      "execution_count": null,
      "id": "6043a16b",
      "metadata": {
        "id": "6043a16b"
      },
      "outputs": [],
      "source": [
        "rid='24241000141' \n",
        "\n",
        "\n",
        "swotfile=swot_nc_dir.joinpath(rid + '_SWOT.nc')\n",
        "\n",
        "swot_dataset = Dataset(swotfile)\n",
        "\n",
        "wse=swot_dataset['reach/wse'][:]\n",
        "ts = swot_dataset['reach']['time'][:]\n",
        "epoch = datetime.datetime(2000,1,1,0,0,0)\n",
        "tobj = [ epoch + datetime.timedelta(seconds=int(t)) for t in ts ]\n",
        "\n",
        "fig,ax = plt.subplots()\n",
        "ax.plot(tobj,wse)\n",
        "plt.title('WSE timeseries for ' + rid)\n",
        "plt.ylabel('Water surface elevation [m]')\n",
        "plt.show()\n"
      ]
    },
    {
      "cell_type": "markdown",
      "id": "aafd39b2",
      "metadata": {
        "id": "aafd39b2"
      },
      "source": [
        "# Prediagnostic output\n",
        "\n",
        "Confluence runs a series of checks. "
      ]
    },
    {
      "cell_type": "code",
      "execution_count": null,
      "id": "3f657050",
      "metadata": {
        "id": "3f657050"
      },
      "outputs": [],
      "source": [
        "prediag_dir=InputDir.joinpath('prediagnostics').joinpath('output')\n",
        "prediag_dir_list=os.listdir(prediag_dir)\n",
        "\n",
        "print(prediag_dir_list[0:10]) "
      ]
    },
    {
      "cell_type": "code",
      "execution_count": null,
      "id": "f40e728e",
      "metadata": {
        "id": "f40e728e"
      },
      "outputs": [],
      "source": [
        "reach='23240601104'\n",
        "\n",
        "prediag_file=prediag_dir.joinpath(reach + '_prediagnostics.nc') \n",
        "\n",
        "prediag_dataset = Dataset(prediag_file)\n",
        "\n",
        "print(prediag_dataset)"
      ]
    },
    {
      "cell_type": "code",
      "execution_count": null,
      "id": "4ac9b478",
      "metadata": {
        "id": "4ac9b478"
      },
      "outputs": [],
      "source": [
        "# let's check out the node data\n",
        "prediag_dataset_node=prediag_dataset['node']\n",
        "\n",
        "print(prediag_dataset_node)"
      ]
    },
    {
      "cell_type": "code",
      "execution_count": null,
      "id": "bc2d7238",
      "metadata": {
        "id": "bc2d7238"
      },
      "outputs": [],
      "source": [
        "width_outliers=prediag_dataset_node['width_outliers']\n",
        "\n",
        "fig,ax=plt.subplots()\n",
        "plt.pcolor(width_outliers)\n",
        "plt.xlabel('Node indices')\n",
        "plt.ylabel('Time indices')\n",
        "plt.colorbar()\n",
        "plt.show()"
      ]
    },
    {
      "cell_type": "code",
      "execution_count": null,
      "id": "5b686e03",
      "metadata": {
        "id": "5b686e03"
      },
      "outputs": [],
      "source": [
        "# check out what those outliers look like\n",
        "\n",
        "swotfile=swot_nc_dir.joinpath(reach + '_SWOT.nc')\n",
        "\n",
        "swot_dataset = Dataset(swotfile)\n",
        "\n",
        "width=swot_dataset['node/width'][:]\n",
        "\n",
        "np.shape(width)"
      ]
    },
    {
      "cell_type": "code",
      "execution_count": null,
      "id": "1771dbe2",
      "metadata": {
        "id": "1771dbe2"
      },
      "outputs": [],
      "source": [
        "width_valid_set = width.copy()\n",
        "width_valid_set[width_outliers[:,:].T == 1] = np.nan\n",
        "width_outliers_set = width.copy()\n",
        "width_outliers_set[width_outliers[:,:].T == 0] = np.nan\n",
        "\n",
        "fig,ax = plt.subplots()\n",
        "plt.plot(width_valid_set, c=\"grey\", ls=\"-\")\n",
        "plt.plot(width_outliers_set[0, :], \"r+\", label=\"outliers\")\n",
        "plt.plot(width_outliers_set[1:, :], \"r+\")\n",
        "plt.plot(np.median(width, axis=1), \"g-\", label=\"median\")\n",
        "plt.xlabel('Node indices')\n",
        "plt.ylabel('Width, m')\n",
        "plt.legend()\n",
        "plt.show()"
      ]
    },
    {
      "cell_type": "markdown",
      "id": "01b771e8",
      "metadata": {
        "id": "01b771e8"
      },
      "source": [
        "The missing data around nodes 10, 20 and 40 are due to an issue constructing the Ohio dataset for Verify."
      ]
    },
    {
      "cell_type": "markdown",
      "id": "bf9f5b14",
      "metadata": {
        "id": "bf9f5b14"
      },
      "source": [
        "# Explore gage data in the SoS\n",
        "\n",
        "As part of the preliminary steps, Confluence pulls the latest discharge data from near-real time reporting gages. These are used to help estimate flow law parameters (constrained data product only) and to evaluate discharge accuracy."
      ]
    },
    {
      "cell_type": "code",
      "execution_count": null,
      "id": "025b68e9",
      "metadata": {
        "id": "025b68e9"
      },
      "outputs": [],
      "source": [
        "# plot up gage discharge timeseries \n",
        "sosfile_constrained=InputDir.joinpath('sos/constrained/eu_sword_v11_SOS_priors.nc')\n",
        "sos_dataset_con=Dataset(sosfile_constrained)\n",
        "\n"
      ]
    },
    {
      "cell_type": "code",
      "execution_count": null,
      "id": "21a9f41a",
      "metadata": {
        "id": "21a9f41a"
      },
      "outputs": [],
      "source": [
        "# plot up gage locations on top of the reaches\n",
        "#make DF from SOS\n",
        "# plot up gage locations on top of the reaches\n",
        "#make DF from SOS\n",
        "DEFRA_reaches=sos_dataset_con['DEFRA/DEFRA_reach_id'][:].tolist()\n",
        "DEFRA_CAL=sos_dataset_con['DEFRA/CAL'][:].tolist()\n",
        "DEFRA_station = chartostring(sos_dataset_con['DEFRA/DEFRA_id'][:].filled(np.nan))\n",
        "DEFRA_station = [ el.strip(' ') for el in DEFRA_station ]    \n",
        "DEFRAg=pd.DataFrame()\n",
        "DEFRAg['Reach_ID']=DEFRA_reaches\n",
        "DEFRAg['Agency_ID']=DEFRA_station \n",
        "DEFRAg['CAL']=DEFRA_CAL\n",
        "DEFRAQ=np.array(sos_dataset_con['DEFRA/DEFRA_q'][:,:])\n",
        "DEFRAQT=np.array(sos_dataset_con['DEFRA/DEFRA_qt'][:,:])\n",
        "DEFRAg['Agency']=[\"DEFRA\"]*len(DEFRA_CAL)\n",
        "\n",
        "EAU_reaches=sos_dataset_con['EAU/EAU_reach_id'][:].tolist()\n",
        "EAU_CAL=sos_dataset_con['EAU/CAL'][:].tolist()\n",
        "EAU_station= chartostring(sos_dataset_con['EAU/EAU_id'][:].filled(np.nan))\n",
        "EAU_station = [ el.strip(' ') for el in EAU_station ]   \n",
        "EAUg=pd.DataFrame()\n",
        "EAUg['Reach_ID']=EAU_reaches\n",
        "EAUg['Agency_ID']=EAU_station\n",
        "EAUg['CAL']=EAU_CAL\n",
        "EAUQ=np.array(sos_dataset_con['EAU/EAU_q'][:,:])\n",
        "EAUQT=np.array(sos_dataset_con['EAU/EAU_qt'][:,:])\n",
        "EAUg['Agency']=[\"EAU\"]*len(EAU_CAL)\n",
        "\n",
        "NRTdf=pd.concat([DEFRAg,EAUg],axis=0,ignore_index=True)\n",
        "SWORDncfile=InputDir.joinpath('sword/netcdf/eu_sword_v11.nc')\n",
        "SWORDnc=Dataset(SWORDncfile)\n",
        "SWreaches=SWORDnc['reaches/reach_id'][:]\n",
        "SWreachesX=SWORDnc['reaches/x'][:]\n",
        "SWreachesY=SWORDnc['reaches/y'][:]\n",
        "NRTx=[]\n",
        "NRTy=[]\n",
        "for r in range(len(NRTdf.Reach_ID[:])):\n",
        "\n",
        "  Ridx=np.where(NRTdf.Reach_ID[r]==np.array(SWreaches))\n",
        "  NRTx.append(SWreachesX[Ridx])\n",
        "  NRTy.append(SWreachesY[Ridx])\n",
        "\n",
        "NRTdf['X']=NRTx\n",
        "NRTdf['Y']=NRTy\n",
        "\n",
        "NRTdf.crs = 'epsg:4326'\n",
        "NRTdf['geometry']=gpd.points_from_xy(NRTdf.X, NRTdf.Y)\n",
        "\n",
        "NRTdf.head()\n",
        "sos_gaged_reachids=np.array(NRTdf.Reach_ID[:])\n",
        "sos_gaged_agency_ids=NRTdf.Agency_ID[:]\n",
        "sos_gaged_Q=[]\n",
        "sos_gaged_Qt=[]\n",
        "for i in range(len(DEFRAQ)+len(EAUQ)):\n",
        "  if i<len(DEFRAQ):\n",
        "    sos_gaged_Q.append(DEFRAQ[i])\n",
        "    sos_gaged_Qt.append(DEFRAQT[i])\n",
        "  else:\n",
        "    sos_gaged_Q.append(EAUQ[i-len(DEFRAQ)])\n",
        "    sos_gaged_Qt.append(EAUQT[i-len(DEFRAQ)])"
      ]
    },
    {
      "cell_type": "code",
      "execution_count": null,
      "id": "03e0b56c",
      "metadata": {
        "id": "03e0b56c"
      },
      "outputs": [],
      "source": [
        "domain_reachids=collection.reaches_list\n",
        "domain_reachids=[int(i) for i in domain_reachids]\n",
        "# make a list of all the gaged reaches in the domain, and pull the data for the first one\n",
        "gaged_domain_reaches=list()\n",
        "\n",
        "for reachid in domain_reachids:\n",
        "    if reachid in sos_gaged_reachids:\n",
        "        gaged_domain_reaches.append(str(reachid))\n",
        "        \n",
        "        \n",
        "print('Pulling data for ' + str(gaged_domain_reaches[0]) )\n",
        "    \n",
        "indx = np.where(sos_gaged_reachids==int(gaged_domain_reaches[0]))\n",
        "Qgage=sos_gaged_Q[indx[0][0]]\n",
        "tgage=sos_gaged_Qt[indx[0][0]]\n",
        "gage_id=sos_gaged_agency_ids[indx[0][0]]\n"
      ]
    },
    {
      "cell_type": "code",
      "source": [
        "NRTdf"
      ],
      "metadata": {
        "id": "WXNNT18x6zi8"
      },
      "id": "WXNNT18x6zi8",
      "execution_count": null,
      "outputs": []
    },
    {
      "cell_type": "code",
      "execution_count": null,
      "id": "def35cc7",
      "metadata": {
        "id": "def35cc7"
      },
      "outputs": [],
      "source": [
        "# limit the gage data to those that overlap with reaches in the domain\n",
        "GDRID=[int(i) for i in gaged_domain_reaches]\n",
        "domaindf=NRTdf.loc[NRTdf['Reach_ID'].isin(GDRID)]\n",
        "domaindf.reset_index(drop=True, inplace=True)\n",
        "domaindf\n",
        "domaindfgeo=gpd.GeoDataFrame(domaindf)\n",
        "domaindfgeo.crs = 'epsg:4326'\n",
        "#domaindfgeo['geometry']=gpd.points_from_xy(domaindf.X, domaindf.Y)"
      ]
    },
    {
      "cell_type": "code",
      "execution_count": null,
      "id": "39151828",
      "metadata": {
        "id": "39151828"
      },
      "outputs": [],
      "source": [
        "# map the gages\n",
        "\n",
        "#--------------------------------\n",
        "# EMBEDDED VERSION OF swotdawgviz\n",
        "#--------------------------------\n",
        "folium.GeoJson(data=domaindfgeo['geometry'],\n",
        "                marker=folium.CircleMarker(radius = 5, # Radius in metres\n",
        "                                            weight = 0, #outline weight\n",
        "                                            fill_color = '#0000FF', \n",
        "                                            fill_opacity = 1),).add_to(ridmap)\n",
        "\n",
        "\n",
        "#----------------------------------\n",
        "# UP-TO-DATE VERSION of swotdawgviz\n",
        "#----------------------------------\n",
        "#gmap = sdvm.GagesMap(domaindfgeo)\n",
        "#gagesmap = gmap.get_map(varname_id=None, add_to_map=ridmap)\n",
        "\n",
        "\n",
        "ridmap"
      ]
    },
    {
      "cell_type": "code",
      "execution_count": null,
      "id": "727463e9",
      "metadata": {
        "id": "727463e9"
      },
      "outputs": [],
      "source": [
        "# plot gage discharge data\n",
        "\n",
        "\n",
        "indx = np.where(sos_gaged_reachids==23262000644)\n",
        "Qgage=sos_gaged_Q[indx[0][0]]\n",
        "tgage=sos_gaged_Qt[indx[0][0]]\n",
        "\n",
        "# TODO: fix labels so they show dates not numbers. make sure i have the right range. does not look much like SWOT obs on gaged reach\n",
        "# TODO:  possibly, plot same reach above to show temporal consistency\n",
        "\n",
        "fig,ax= plt.subplots()\n",
        "tstart=734411\n",
        "tstop=734776\n",
        "\n",
        "tplot=tgage[ ((tgage>tstart) & (tgage<tstop)).data ]\n",
        "Qplot=Qgage[ ((tgage>tstart) & (tgage<tstop)).data ]\n",
        "\n",
        "# USGS gage time in SoS is in number of days since day 1 year 1\n",
        "epoch = datetime.datetime(1,1,1,0,0,0)\n",
        "dtplot = [ epoch + datetime.timedelta(days=t) for t in tplot ]\n",
        "\n",
        "ax.plot(dtplot,Qplot)\n",
        "plt.title('NRT Gaged discharge for ' + str(gaged_domain_reaches[0]))\n",
        "plt.ylabel('Discharge, cms')\n",
        "plt.show()"
      ]
    },
    {
      "cell_type": "code",
      "execution_count": null,
      "id": "f6e6eb5c",
      "metadata": {
        "id": "f6e6eb5c"
      },
      "outputs": [],
      "source": []
    },
    {
      "cell_type": "code",
      "execution_count": null,
      "id": "31fa606a-d125-4d4c-b238-c05446415af3",
      "metadata": {
        "id": "31fa606a-d125-4d4c-b238-c05446415af3"
      },
      "outputs": [],
      "source": []
    }
  ],
  "metadata": {
    "kernelspec": {
      "display_name": "Python 3 (ipykernel)",
      "language": "python",
      "name": "python3"
    },
    "language_info": {
      "codemirror_mode": {
        "name": "ipython",
        "version": 3
      },
      "file_extension": ".py",
      "mimetype": "text/x-python",
      "name": "python",
      "nbconvert_exporter": "python",
      "pygments_lexer": "ipython3",
      "version": "3.8.13"
    },
    "colab": {
      "provenance": [],
      "include_colab_link": true
    }
  },
  "nbformat": 4,
  "nbformat_minor": 5
}